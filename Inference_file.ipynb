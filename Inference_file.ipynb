{
  "nbformat": 4,
  "nbformat_minor": 0,
  "metadata": {
    "colab": {
      "provenance": []
    },
    "kernelspec": {
      "name": "python3",
      "display_name": "Python 3"
    },
    "language_info": {
      "name": "python"
    }
  },
  "cells": [
    {
      "cell_type": "code",
      "execution_count": 14,
      "metadata": {
        "id": "GjzrEc2OeEgL"
      },
      "outputs": [],
      "source": [
        "import torchvision"
      ]
    },
    {
      "cell_type": "code",
      "source": [
        "import torch\n",
        "import torchvision.transforms as transforms\n",
        "import os\n",
        "from PIL import Image"
      ],
      "metadata": {
        "id": "_OqhDumdeGCV"
      },
      "execution_count": 25,
      "outputs": []
    },
    {
      "cell_type": "code",
      "source": [
        "classes = [\n",
        "    \"a\",\"b\",\"c\",\"d\",\"e\",\"f\",\"g\",\"h\",\"i\",\"k\"\n",
        "]"
      ],
      "metadata": {
        "id": "-Mm8KO9neQLa"
      },
      "execution_count": 16,
      "outputs": []
    },
    {
      "cell_type": "code",
      "source": [
        "from google.colab import drive\n",
        "drive.mount('/content/drive')"
      ],
      "metadata": {
        "colab": {
          "base_uri": "https://localhost:8080/"
        },
        "id": "GAdDgom3elFg",
        "outputId": "9cb526de-a3c9-4d7b-e8b7-9a6dad559272"
      },
      "execution_count": 17,
      "outputs": [
        {
          "output_type": "stream",
          "name": "stdout",
          "text": [
            "Drive already mounted at /content/drive; to attempt to forcibly remount, call drive.mount(\"/content/drive\", force_remount=True).\n"
          ]
        }
      ]
    },
    {
      "cell_type": "code",
      "source": [
        "model = torch.load('./drive/MyDrive/bestModel_final.pth')"
      ],
      "metadata": {
        "id": "1fW-fgXvee1i"
      },
      "execution_count": 18,
      "outputs": []
    },
    {
      "cell_type": "code",
      "source": [
        "images_transforms = transforms.Compose([\n",
        "    transforms.Resize((224,224)),\n",
        "    transforms.ToTensor(),# necessary for pytorch\n",
        "])"
      ],
      "metadata": {
        "id": "ILan--nKefch"
      },
      "execution_count": 19,
      "outputs": []
    },
    {
      "cell_type": "code",
      "source": [
        "def classifier(model, images_transforms, image_path, classes):\n",
        "  model = model.eval()\n",
        "  image = Image.open(image_path)\n",
        "  image = images_transforms(image).float()\n",
        "  image = image.unsqueeze(0)\n",
        "\n",
        "  output = model(image)\n",
        "  _, predicted = torch.max(output.data, 1)\n",
        "  print(classes[predicted.item()])"
      ],
      "metadata": {
        "id": "qSDw8usjg676"
      },
      "execution_count": 29,
      "outputs": []
    },
    {
      "cell_type": "code",
      "source": [
        "classifier(model, images_transforms, \"./drive/MyDrive/validation/validation/n5/n517.jpg\", classes)"
      ],
      "metadata": {
        "colab": {
          "base_uri": "https://localhost:8080/"
        },
        "id": "2pIvsOgsjp2W",
        "outputId": "b864268f-e89b-4da2-e2cf-40e5d249389e"
      },
      "execution_count": 33,
      "outputs": [
        {
          "output_type": "stream",
          "name": "stdout",
          "text": [
            "f\n"
          ]
        }
      ]
    },
    {
      "cell_type": "code",
      "source": [],
      "metadata": {
        "id": "C2D-7wgsnJTH"
      },
      "execution_count": null,
      "outputs": []
    }
  ]
}