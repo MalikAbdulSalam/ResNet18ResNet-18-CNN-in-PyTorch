{
  "cells": [
    {
      "cell_type": "markdown",
      "metadata": {
        "id": "Q3QUiT7e25c2"
      },
      "source": [
        "# Images dataset Preparing for training.\n",
        "## (Images Dataset Transform and Loader)"
      ]
    },
    {
      "cell_type": "code",
      "execution_count": null,
      "metadata": {
        "id": "NTnBHclcrI9g"
      },
      "outputs": [],
      "source": [
        "import torchvision\n",
        "import torch\n",
        "import torchvision.transforms as transforms\n",
        "import os\n",
        "import matplotlib.pyplot as plt\n",
        "import numpy as np\n",
        "import torchvision.models as models\n",
        "import torch.nn as nn\n",
        "import torch.optim as optim"
      ]
    },
    {
      "cell_type": "markdown",
      "metadata": {
        "id": "HM5YLXZk3ddG"
      },
      "source": [
        "## Mount Drive"
      ]
    },
    {
      "cell_type": "code",
      "execution_count": null,
      "metadata": {
        "id": "NCejeEVSrKdc"
      },
      "outputs": [],
      "source": [
        "from google.colab import drive\n",
        "drive.mount('/content/drive')"
      ]
    },
    {
      "cell_type": "markdown",
      "metadata": {
        "id": "zbKx1Dwy3-EY"
      },
      "source": [
        "## Check location of dataset"
      ]
    },
    {
      "cell_type": "code",
      "execution_count": null,
      "metadata": {
        "colab": {
          "background_save": true
        },
        "id": "A8qt06o8rpW7",
        "outputId": "1d127d50-4bed-4f10-98c7-5379fc36d927"
      },
      "outputs": [
        {
          "data": {
            "text/plain": [
              "['training']"
            ]
          },
          "execution_count": 34,
          "metadata": {},
          "output_type": "execute_result"
        }
      ],
      "source": [
        "os.listdir('./drive/MyDrive/training')"
      ]
    },
    {
      "cell_type": "code",
      "execution_count": null,
      "metadata": {
        "colab": {
          "background_save": true
        },
        "id": "7DKUu5oErfja"
      },
      "outputs": [],
      "source": [
        "training_dataset_path = \"./drive/MyDrive/training/training\""
      ]
    },
    {
      "cell_type": "code",
      "execution_count": null,
      "metadata": {
        "colab": {
          "background_save": true
        },
        "id": "rC06kU5Vr-CG"
      },
      "outputs": [],
      "source": [
        "testing_dataset_path = './drive/MyDrive/validation/validation'"
      ]
    },
    {
      "cell_type": "markdown",
      "metadata": {
        "id": "_oHBOpwcsUj7"
      },
      "source": [
        "## Transforms"
      ]
    },
    {
      "cell_type": "code",
      "execution_count": null,
      "metadata": {
        "colab": {
          "background_save": true
        },
        "id": "MBU_KTzQsMHO"
      },
      "outputs": [],
      "source": [
        "train_transforms = transforms.Compose([\n",
        "    transforms.Resize((224,224)),\n",
        "    transforms.RandomHorizontalFlip(p = 0.25),\n",
        "    transforms.RandomRotation(10), #10 degree rotation\n",
        "    transforms.ToTensor(),# necessary for pytorch\n",
        "    #transforms.Normalize(torch.Tensor(mean), torch.Tensor(std))\n",
        "])"
      ]
    },
    {
      "cell_type": "code",
      "execution_count": null,
      "metadata": {
        "colab": {
          "background_save": true
        },
        "id": "5GVAtw72sg6-"
      },
      "outputs": [],
      "source": [
        "test_transforms = transforms.Compose([\n",
        "    transforms.Resize((224,224)),\n",
        "    transforms.ToTensor()\n",
        "])"
      ]
    },
    {
      "cell_type": "markdown",
      "metadata": {
        "id": "a40-gyT6vYZW"
      },
      "source": [
        "## Creat Train and Test dataset with applied transforms"
      ]
    },
    {
      "cell_type": "code",
      "execution_count": null,
      "metadata": {
        "colab": {
          "background_save": true
        },
        "id": "-o3XJtN3vQL4"
      },
      "outputs": [],
      "source": [
        "Train_Ds =torchvision.datasets.ImageFolder(root = training_dataset_path, transform = train_transforms)\n",
        "Test_Ds =torchvision.datasets.ImageFolder(root = testing_dataset_path, transform = test_transforms)"
      ]
    },
    {
      "cell_type": "code",
      "execution_count": null,
      "metadata": {
        "colab": {
          "background_save": true
        },
        "id": "E-eWR1GyyZwR",
        "outputId": "3194f196-7672-41ce-eb3f-c429cc272c43"
      },
      "outputs": [
        {
          "name": "stdout",
          "output_type": "stream",
          "text": [
            "<class 'torchvision.datasets.folder.ImageFolder'>\n"
          ]
        }
      ],
      "source": [
        "print(type(Train_Ds))"
      ]
    },
    {
      "cell_type": "markdown",
      "metadata": {
        "id": "KPrx2OQ8xgJV"
      },
      "source": [
        "## Creat Loader"
      ]
    },
    {
      "cell_type": "code",
      "execution_count": null,
      "metadata": {
        "colab": {
          "background_save": true
        },
        "id": "kixwIbVYw1Qs"
      },
      "outputs": [],
      "source": [
        "train_loader = torch.utils.data.DataLoader(dataset = Train_Ds, batch_size = 32, shuffle = True)\n",
        "test_loader = torch.utils.data.DataLoader(dataset = Test_Ds, batch_size = 32, shuffle = False)\n"
      ]
    },
    {
      "cell_type": "markdown",
      "metadata": {
        "id": "JkgtOwBf1AIa"
      },
      "source": [
        "## Show Transformed Images"
      ]
    },
    {
      "cell_type": "code",
      "execution_count": null,
      "metadata": {
        "colab": {
          "background_save": true
        },
        "id": "WzxVXSPWx_R-"
      },
      "outputs": [],
      "source": [
        "def show(dataset):\n",
        "  loader = torch.utils.data.DataLoader(dataset, batch_size= 16, shuffle = True)\n",
        "  batch = next(iter(loader))\n",
        "  images, labels = batch\n",
        "\n",
        "  grid = torchvision.utils.make_grid(images,nrow = 4)\n",
        "  img = torchvision.transforms.ToPILImage()(grid)\n",
        "  plt.imshow(img)"
      ]
    },
    {
      "cell_type": "code",
      "execution_count": null,
      "metadata": {
        "colab": {
          "background_save": true
        },
        "id": "ziJYIGMv17Mp"
      },
      "outputs": [],
      "source": [
        "show(Train_Ds)"
      ]
    },
    {
      "cell_type": "code",
      "execution_count": null,
      "metadata": {
        "colab": {
          "background_save": true
        },
        "id": "2sY_JU582A4w"
      },
      "outputs": [],
      "source": [
        "def set_device():\n",
        "  if torch.cuda.is_available():\n",
        "    dev = \"cuda:0\"\n",
        "  else:\n",
        "    dev = \"cpu\"\n",
        "  device = torch.device(dev)\n",
        "  return torch.device(dev)"
      ]
    },
    {
      "cell_type": "code",
      "execution_count": null,
      "metadata": {
        "colab": {
          "background_save": true
        },
        "id": "udwx_fASBhpf"
      },
      "outputs": [],
      "source": [
        "def tran_nn(model, train_loader, test_loader, criterion, optimizer, n_epochs):\n",
        "  device = set_device()\n",
        "\n",
        "  #to save best model\n",
        "  best_acc = 0\n",
        "\n",
        "  for epoch in range (n_epochs):\n",
        "    print(epoch)\n",
        "    model.train()\n",
        "    running_loss = 0.0\n",
        "    runnin_correct = 0.0\n",
        "    total = 0\n",
        "    for data in train_loader:\n",
        "      images, labels = data\n",
        "      images = images.to(device)\n",
        "      labels = labels.to(device)\n",
        "      total += labels.size(0)\n",
        "      optimizer.zero_grad()\n",
        "\n",
        "      outputs = model(images)\n",
        "      _, predicted = torch.max(outputs.data, 1)\n",
        "      loss = criterion(outputs, labels)\n",
        "\n",
        "      #backpropegate\n",
        "      loss.backward()\n",
        "      optimizer.step()\n",
        "      running_loss += loss.item()\n",
        "      runnin_correct += (labels == predicted).sum().item()\n",
        "\n",
        "    #print result values\n",
        "    print(\"yes\")\n",
        "    epoch_loss = running_loss/len(train_loader)\n",
        "    epoch_acc = 100.00 * runnin_correct / total\n",
        "    print(\"Training dataset. \")\n",
        "    print(\"correct prediction \", runnin_correct, \"       out of \", total)\n",
        "    print(\"epoch accuracy is  \", epoch_acc)\n",
        "    print(\"epoch loss is \", epoch_loss)\n",
        "    #print(\"    -Training dataset. Got %d out of %d images correctly ( %.3f%%). Epoch loss: %.03f\") %  (runnin_correct, total, , epoch_acc, epoch_loss )\n",
        "    test_data_acc = evaluate_model(model, test_loader)\n",
        "    if (test_data_acc > best_acc):\n",
        "      best_acc = test_data_acc\n",
        "      save_checkpoint(model, epoch, optimizer, best_acc)\n",
        "  print(\"finished\")\n",
        "  return model\n"
      ]
    },
    {
      "cell_type": "code",
      "execution_count": null,
      "metadata": {
        "colab": {
          "background_save": true
        },
        "id": "cI5KNaBI9FrA"
      },
      "outputs": [],
      "source": [
        "def save_checkpoint(model, epoch, optimizer, best_acc):\n",
        "  state = {\n",
        "      'epoch' : epoch + 1,\n",
        "      'best_model' : model.state_dict(),\n",
        "      'best accuracy' : best_acc,\n",
        "      'optimizer' : optimizer.state_dict()\n",
        "  }\n",
        "  #model will save model\n",
        "  #optimizer for resume training\n",
        "  torch.save(state, './drive/MyDrive/bestModel.pth')"
      ]
    },
    {
      "cell_type": "code",
      "execution_count": null,
      "metadata": {
        "colab": {
          "background_save": true
        },
        "id": "BjX60VF-Bhez"
      },
      "outputs": [],
      "source": [
        "def evaluate_model(model,test_loader):\n",
        "  model.eval()\n",
        "  predicted_correctly = 0\n",
        "  total = 0\n",
        "  device = set_device()\n",
        "\n",
        "  #because we dont nee backpropegate while evaluating\n",
        "  with torch.no_grad():\n",
        "    for data in test_loader:\n",
        "      images, labels = data\n",
        "      images = images.to(device)\n",
        "      labels = labels.to(device)\n",
        "      total += labels.size(0)\n",
        "      \n",
        "      outputs = model(images)\n",
        "      _, predicted = torch.max(outputs.data, 1)\n",
        "      predicted_correctly += (predicted == labels).sum().item()\n",
        "\n",
        "  epoch_acc = 100.00 * predicted_correctly / total\n",
        "  print(\"Test dataset. \")\n",
        "  print(\"correct prediction \", predicted_correctly, \"       out of \" ,total)\n",
        "  print(\"epoch accuracy is  \", epoch_acc)\n",
        "  return epoch_acc\n",
        "  \n",
        "\n"
      ]
    },
    {
      "cell_type": "code",
      "execution_count": null,
      "metadata": {
        "colab": {
          "background_save": true
        },
        "id": "o2l1X1rKhC1t"
      },
      "outputs": [],
      "source": [
        "import torch.nn as nn\n",
        "import torch.nn.functional as F\n",
        "\n",
        "\n",
        "class Net(nn.Module):\n",
        "    def __init__(self):\n",
        "        super().__init__()\n",
        "        self.conv1 = nn.Conv2d(3, 6, 5)\n",
        "        self.pool = nn.MaxPool2d(2, 2)\n",
        "        self.conv2 = nn.Conv2d(6, 16, 5)\n",
        "        self.fc1 = nn.Linear(16 * 5 * 5, 120)\n",
        "        self.fc2 = nn.Linear(120, 84)\n",
        "        self.fc3 = nn.Linear(84, 10)\n",
        "\n",
        "    def forward(self, x):\n",
        "        x = self.pool(F.relu(self.conv1(x)))\n",
        "        x = self.pool(F.relu(self.conv2(x)))\n",
        "        x = torch.flatten(x, 1) # flatten all dimensions except batch\n",
        "        x = F.relu(self.fc1(x))\n",
        "        x = F.relu(self.fc2(x))\n",
        "        x = self.fc3(x)\n",
        "        return x"
      ]
    },
    {
      "cell_type": "code",
      "execution_count": null,
      "metadata": {
        "colab": {
          "background_save": true
        },
        "id": "MY9yDk5FCkER"
      },
      "outputs": [],
      "source": [
        "\n",
        "\n",
        "model=Net()\n",
        "\n"
      ]
    },
    {
      "cell_type": "code",
      "execution_count": null,
      "metadata": {
        "colab": {
          "background_save": true
        },
        "id": "-j5cK0HbCjtm"
      },
      "outputs": [],
      "source": [
        "number_features = model.fc.in_features\n",
        "number_classes = 10 #depends upon dataset\n",
        "model.fc = nn.Linear(number_features, number_classes)\n",
        "device = set_device()\n",
        "model = model.to(device)\n",
        "loss_ftn = nn.CrossEntropyLoss() #loss ftn for classification problem\n",
        "optimizer = optim.SGD(model.parameters(), lr = 0.01, momentum = 0.9, weight_decay = 0.003)\n"
      ]
    },
    {
      "cell_type": "code",
      "execution_count": null,
      "metadata": {
        "colab": {
          "background_save": true
        },
        "id": "mM4VWnEWCjoC"
      },
      "outputs": [],
      "source": [
        "tran_nn(model,train_loader, test_loader, loss_ftn, optimizer,2  )"
      ]
    },
    {
      "cell_type": "code",
      "execution_count": null,
      "metadata": {
        "colab": {
          "background_save": true
        },
        "id": "ON5gLO5pF3VZ"
      },
      "outputs": [],
      "source": [
        "checkpoint = torch.load(\"./drive/MyDrive/bestModel.pth\")"
      ]
    },
    {
      "cell_type": "code",
      "execution_count": null,
      "metadata": {
        "colab": {
          "background_save": true
        },
        "id": "K7fhgFe5Cjil"
      },
      "outputs": [],
      "source": [
        "print(checkpoint['epoch'])\n",
        "print(checkpoint['best accuracy'])"
      ]
    },
    {
      "cell_type": "code",
      "execution_count": null,
      "metadata": {
        "colab": {
          "background_save": true
        },
        "id": "IhzqMkRQDj4b"
      },
      "outputs": [],
      "source": [
        "#to save model\n",
        "model = models.resnet18()\n",
        "number_features = model.fc.in_features\n",
        "number_classes = 10 #depends upon dataset\n",
        "model.fc = nn.Linear(number_features, number_classes)\n",
        "model.load_state_dict(checkpoint['best_model'])\n",
        "torch.save(model,\"./drive/MyDrive/bestModel_final2.pth\" )"
      ]
    }
  ],
  "metadata": {
    "accelerator": "GPU",
    "colab": {
      "provenance": []
    },
    "gpuClass": "standard",
    "kernelspec": {
      "display_name": "Python 3",
      "name": "python3"
    },
    "language_info": {
      "name": "python"
    }
  },
  "nbformat": 4,
  "nbformat_minor": 0
}